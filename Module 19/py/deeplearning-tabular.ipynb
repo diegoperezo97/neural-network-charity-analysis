{
 "cells": [
  {
   "cell_type": "code",
   "execution_count": null,
   "id": "17b25b2d",
   "metadata": {},
   "outputs": [],
   "source": [
    "# Import our dependencies:\n",
    "from sklearn.model_selection import train_test_split\n",
    "from sklearn.preprocessing import StandardScaler, OneHotEncoder\n",
    "import pandas as pd\n",
    "import tensorflow as tf"
   ]
  },
  {
   "cell_type": "code",
   "execution_count": null,
   "id": "0aeaa333",
   "metadata": {},
   "outputs": [],
   "source": [
    "# Import our input dataset:\n",
    "attrition_df = pd.read_csv(\"/Users/diegoperezo97/Documents/Tecnológico de Monterrey – Data Analytics Boot Camp/neural-network-charity-analysis/Module 19/data/HR-Employee-Attrition.csv\")\n",
    "attrition_df.head()"
   ]
  },
  {
   "cell_type": "code",
   "execution_count": null,
   "id": "d2a032f3",
   "metadata": {},
   "outputs": [],
   "source": [
    "# Generate our categorical variable list:\n",
    "attrition_cat = attrition_df.dtypes[attrition_df.dtypes == \"object\"].index.tolist()"
   ]
  },
  {
   "cell_type": "code",
   "execution_count": null,
   "id": "53a1a330",
   "metadata": {},
   "outputs": [],
   "source": [
    "# Check the number of unique values in each column:\n",
    "attrition_df[attrition_cat].nunique()"
   ]
  },
  {
   "cell_type": "code",
   "execution_count": null,
   "id": "4a1872d4",
   "metadata": {},
   "outputs": [],
   "source": [
    "# Create a OneHotEncoder instance:\n",
    "enc = OneHotEncoder(sparse=False)\n",
    "\n",
    "# Fit and transform the OneHotEncoder using the categorical variable list:\n",
    "encode_df = pd.DataFrame(enc.fit_transform(attrition_df[attrition_cat]))\n",
    "\n",
    "# Add the encoded variable names to the DataFrame:\n",
    "encode_df.columns = enc.get_feature_names(attrition_cat)\n",
    "encode_df.head()"
   ]
  },
  {
   "cell_type": "code",
   "execution_count": null,
   "id": "5eb0adee",
   "metadata": {},
   "outputs": [],
   "source": [
    "# Marge one-hot encoded features and drop the originals:\n",
    "attrition_df = attrition_df.merge(encode_df, left_index=True, right_index=True)\n",
    "attrition_df = attrition_df.drop(attrition_cat, 1)\n",
    "attrition_df"
   ]
  },
  {
   "cell_type": "code",
   "execution_count": null,
   "id": "b0e4b0a2",
   "metadata": {},
   "outputs": [],
   "source": [
    "# Split our preprocessed data into our features and target arrays:\n",
    "y = attrition_df[\"Attrition_Yes\"].values\n",
    "X = attrition_df.drop([\"Attrition_Yes\", \"Attrition_No\"], 1).values\n",
    "\n",
    "# Split the preprocessed data into training and testing dataset:\n",
    "X_train, X_test, y_train, y_test = train_test_split(X, y, random_state=78)"
   ]
  },
  {
   "cell_type": "code",
   "execution_count": null,
   "id": "cdb06b28",
   "metadata": {},
   "outputs": [],
   "source": [
    "# Crate a StandardScaler instance:\n",
    "scaler = StandardScaler()\n",
    "\n",
    "# Fit the StandardScaler:\n",
    "X_scaler = scaler.fit(X_train)\n",
    "\n",
    "# Scale the data:\n",
    "X_train_scaled = X_scaler.transform(X_train)\n",
    "X_test_scaled = X_scaler.transform(X_test)"
   ]
  },
  {
   "cell_type": "code",
   "execution_count": null,
   "id": "af12b539",
   "metadata": {},
   "outputs": [],
   "source": [
    "# Define the model - deep neural net:\n",
    "number_input_features = len(X_train[0])\n",
    "hidden_nodes_layers1 = 8\n",
    "hidden_nodes_layers2 = 5\n",
    "\n",
    "nn = tf.keras.models.Sequential()\n",
    "\n",
    "# First hidden layer:\n",
    "nn.add(\n",
    "    tf.keras.layers.Dense(units=hidden_nodes_layers1, input_dim=number_input_features, activation=\"relu\")\n",
    ")\n",
    "\n",
    "# Second hidden layer:\n",
    "nn.add(\n",
    "    tf.keras.layers.Dense(units=hidden_nodes_layers2, activation=\"relu\")\n",
    ")\n",
    "\n",
    "# Output layer:\n",
    "nn.add(tf.keras.layers.Dense(units=1, activation=\"sigmoid\"))\n",
    "\n",
    "# Check the structure of the model:\n",
    "nn.summary()"
   ]
  },
  {
   "cell_type": "code",
   "execution_count": null,
   "id": "e4f1a1ed",
   "metadata": {},
   "outputs": [],
   "source": [
    "# Import checkpoint dependencies:\n",
    "import os\n",
    "from tensorflow.keras.callbacks import ModelCheckpoint\n",
    "\n",
    "# Define the checkpoint path and filenames:\n",
    "os.makedirs(\"checkpoints/\", exist_ok=\"True\")\n",
    "checkpoint_path = f\"/Users/diegoperezo97/Documents/Tecnológico de Monterrey – Data Analytics Boot Camp/neural-network-charity-analysis/Module 19/checkpoints/weights.{epoch:02d}.hdf5\""
   ]
  },
  {
   "cell_type": "code",
   "execution_count": null,
   "id": "cbb61df0",
   "metadata": {},
   "outputs": [],
   "source": [
    "# Compile the model:\n",
    "nn.compile(loss=\"binary_crossentropy\", optimizer=\"adam\", metrics=[\"accuracy\"])"
   ]
  },
  {
   "cell_type": "code",
   "execution_count": null,
   "id": "e628a544",
   "metadata": {},
   "outputs": [],
   "source": [
    "# Create a callback that saves the model's weights every epoch:\n",
    "cp_callback = ModelCheckpoint(\n",
    "    filepath=checkpoint_path,\n",
    "    verbose=1,\n",
    "    save_weights_only=True,\n",
    "    save_freq=\"epoch\"\n",
    ")"
   ]
  },
  {
   "cell_type": "code",
   "execution_count": null,
   "id": "9fcf61c7",
   "metadata": {},
   "outputs": [],
   "source": [
    "# Train the model:\n",
    "fit_model = nn.fit(X_train, y_train, epochs=100)"
   ]
  },
  {
   "cell_type": "code",
   "execution_count": null,
   "id": "c180336c",
   "metadata": {},
   "outputs": [],
   "source": [
    "# Evaluate the model using the test data:\n",
    "model_loss, model_accuracy = nn.evaluate(X_test, y_test, verbose=2)\n",
    "print(f\"Loss: {model_loss}, Accuracy: {model_accuracy}\")"
   ]
  },
  {
   "cell_type": "code",
   "execution_count": null,
   "id": "07e593b7",
   "metadata": {},
   "outputs": [],
   "source": [
    "# Define the model - deep neural net:\n",
    "number_input_features = len(X_train_scaled[0])\n",
    "hidden_nodes_layers1 = 8\n",
    "hidden_nodes_layers2 = 5\n",
    "\n",
    "nn_new = tf.keras.models.Sequential()\n",
    "\n",
    "# First hidden layer:\n",
    "nn_new.add(\n",
    "    tf.keras.layers.Dense(units=hidden_nodes_layers1, input_dim=number_input_features, activation=\"relu\")\n",
    ")\n",
    "\n",
    "# Second hidden layer:\n",
    "nn_new.add(\n",
    "    tf.keras.layers.Dense(units=hidden_nodes_layers2, activation=\"relu\")\n",
    ")\n",
    "\n",
    "# Output layer:\n",
    "nn_new.add(tf.keras.layers.Dense(units=1, activation=\"sigmoid\"))\n",
    "\n",
    "# Check the structure of the model:\n",
    "nn_new.summary()\n",
    "\n",
    "# Compile the model:\n",
    "nn_new.compile(loss=\"binary_crossentropy\", optimizer=\"adam\", metrics=[\"accuracy\"])\n",
    "\n",
    "# Restore the model weights:\n",
    "nn_new.load_weights(\"/Users/diegoperezo97/Documents/Tecnológico de Monterrey – Data Analytics Boot Camp/neural-network-charity-analysis/Module 19/checkpoints/weights.100.hdf5\")\n",
    "\n",
    "# Evaluate the model using the test data:\n",
    "model_loss, model_accuracy = nn_new.evaluate(X_test, y_test, verbose=2)\n",
    "print(f\"Loss: {model_loss}, Accuracy: {model_accuracy}\")"
   ]
  },
  {
   "cell_type": "code",
   "execution_count": null,
   "id": "a8067c9b",
   "metadata": {},
   "outputs": [],
   "source": [
    "# Export our model to HDF5 file:\n",
    "nn_new.save(\"trained_attrition.h5\")"
   ]
  },
  {
   "cell_type": "code",
   "execution_count": null,
   "id": "6efc9e84",
   "metadata": {},
   "outputs": [],
   "source": [
    "# Import the model to a new object:\n",
    "nn_imported = tf.keras.models.load_model(\"trained_attrition.h5\")"
   ]
  },
  {
   "cell_type": "code",
   "execution_count": null,
   "id": "487b8833",
   "metadata": {},
   "outputs": [],
   "source": [
    "# Evaluate the model using the test data:\n",
    "model_loss, model_accuracy = nn_imported.evaluate(X_test_scaled, y_test, verbose=2)"
   ]
  }
 ],
 "metadata": {
  "kernelspec": {
   "display_name": "Python 3",
   "language": "python",
   "name": "python3"
  },
  "language_info": {
   "codemirror_mode": {
    "name": "ipython",
    "version": 3
   },
   "file_extension": ".py",
   "mimetype": "text/x-python",
   "name": "python",
   "nbconvert_exporter": "python",
   "pygments_lexer": "ipython3",
   "version": "3.9.7"
  }
 },
 "nbformat": 4,
 "nbformat_minor": 5
}
